{
 "cells": [
  {
   "attachments": {},
   "cell_type": "markdown",
   "metadata": {},
   "source": []
  },
  {
   "cell_type": "code",
   "execution_count": 1,
   "metadata": {},
   "outputs": [],
   "source": [
    "from sagemaker import get_execution_role\n",
    "\n",
    "role = 'arn:aws:iam::064311914016:role/SagemakerRole'"
   ]
  },
  {
   "cell_type": "code",
   "execution_count": 2,
   "metadata": {},
   "outputs": [
    {
     "name": "stderr",
     "output_type": "stream",
     "text": [
      "train_instance_count has been renamed in sagemaker>=2.\n",
      "See: https://sagemaker.readthedocs.io/en/stable/v2.html for details.\n",
      "train_instance_type has been renamed in sagemaker>=2.\n",
      "See: https://sagemaker.readthedocs.io/en/stable/v2.html for details.\n",
      "INFO:sagemaker:Creating training-job with name: pytorch-extending-our-containers-bark-2023-04-28-16-40-03-989\n"
     ]
    },
    {
     "name": "stdout",
     "output_type": "stream",
     "text": [
      "2023-04-28 16:40:04 Starting - Starting the training job...\n",
      "2023-04-28 16:40:30 Starting - Preparing the instances for training............\n",
      "2023-04-28 16:42:31 Downloading - Downloading input data\n",
      "2023-04-28 16:42:31 Training - Downloading the training image....."
     ]
    }
   ],
   "source": [
    "from sagemaker.estimator import Estimator\n",
    "\n",
    "hyperparameters = {\"epochs\": 1}\n",
    "\n",
    "image_uri = \"064311914016.dkr.ecr.us-east-1.amazonaws.com/pytorch-extending-our-containers-bark:latest\"\n",
    "instance_type = 'ml.p3.2xlarge'\n",
    "instance_type = 'ml.g5.12xlarge'\n",
    "\n",
    "estimator = Estimator(\n",
    "    role=role,\n",
    "    train_instance_count=1, #5,\n",
    "    train_instance_type=instance_type,\n",
    "    image_uri=image_uri,\n",
    "    hyperparameters=hyperparameters,\n",
    "    \n",
    ")\n",
    "\n",
    "estimator.fit()\n",
    "\n",
    "#predictor = estimator.deploy(1, instance_type)"
   ]
  },
  {
   "cell_type": "code",
   "execution_count": null,
   "metadata": {},
   "outputs": [],
   "source": []
  }
 ],
 "metadata": {
  "kernelspec": {
   "display_name": "sagemaker",
   "language": "python",
   "name": "python3"
  },
  "language_info": {
   "codemirror_mode": {
    "name": "ipython",
    "version": 3
   },
   "file_extension": ".py",
   "mimetype": "text/x-python",
   "name": "python",
   "nbconvert_exporter": "python",
   "pygments_lexer": "ipython3",
   "version": "3.11.3"
  },
  "orig_nbformat": 4
 },
 "nbformat": 4,
 "nbformat_minor": 2
}
